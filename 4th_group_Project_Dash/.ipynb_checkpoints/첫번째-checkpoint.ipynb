{
 "cells": [
  {
   "cell_type": "code",
   "execution_count": 1,
   "id": "145e9ddb-940e-4af7-8f74-64870a6ec0fe",
   "metadata": {},
   "outputs": [],
   "source": [
    "# pip install dash_pivottable"
   ]
  },
  {
   "cell_type": "code",
   "execution_count": 1,
   "id": "e711492f-48cc-4715-8493-5f462b6688dd",
   "metadata": {},
   "outputs": [
    {
     "name": "stderr",
     "output_type": "stream",
     "text": [
      "C:\\Users\\HJ\\AppData\\Local\\Temp\\ipykernel_13160\\3633815075.py:3: UserWarning: \n",
      "The dash_html_components package is deprecated. Please replace\n",
      "`import dash_html_components as html` with `from dash import html`\n",
      "  import dash_html_components as html\n"
     ]
    }
   ],
   "source": [
    "import dash\n",
    "from dash.dependencies import Input, Output\n",
    "import dash_html_components as html\n",
    "import dash_pivottable\n",
    "from data import data\n"
   ]
  },
  {
   "cell_type": "code",
   "execution_count": 2,
   "id": "b079e2df-ab93-46ea-8c29-0a97ddc53e54",
   "metadata": {},
   "outputs": [],
   "source": [
    "def Header(name, app):\n",
    "    img_style = {\"float\": \"right\", \"height\": 40, \"margin-right\": 10}\n",
    "    dash_logo = html.Img(src=app.get_asset_url(\"dash.png\"), style=img_style)\n",
    "    ghub_logo = html.Img(src=app.get_asset_url(\"github.png\"), style=img_style)\n",
    "\n",
    "    return html.Div(\n",
    "        [\n",
    "            html.H1(name, style={\"margin\": 10, \"display\": \"inline\"}),\n",
    "            html.A(dash_logo, href=\"https://plotly.com/dash/\"),\n",
    "            html.A(ghub_logo, href=\"https://github.com/plotly/dash-pivottable\"),\n",
    "            html.A(\n",
    "                html.Button(\n",
    "                    \"Enterprise Demo\",\n",
    "                    style={\n",
    "                        \"float\": \"right\",\n",
    "                        \"margin-right\": \"10px\",\n",
    "                        \"margin-top\": \"5px\",\n",
    "                        \"padding\": \"5px 10px\",\n",
    "                        \"font-size\": \"15px\",\n",
    "                    },\n",
    "                ),\n",
    "                href=\"https://plotly.com/get-demo/\",\n",
    "            ),\n",
    "            html.Hr(),\n",
    "        ]\n",
    "    )\n",
    "\n",
    "\n",
    "app = dash.Dash(__name__)\n",
    "app.title = \"Dash Pivottable\"\n",
    "server = app.server"
   ]
  },
  {
   "cell_type": "code",
   "execution_count": null,
   "id": "33f52fe4-e1cd-47cb-9553-d074cc60c821",
   "metadata": {},
   "outputs": [
    {
     "name": "stdout",
     "output_type": "stream",
     "text": [
      "Dash is running on http://127.0.0.1:8050/\n",
      "\n",
      " * Serving Flask app '__main__'\n",
      " * Debug mode: off\n"
     ]
    },
    {
     "name": "stderr",
     "output_type": "stream",
     "text": [
      "WARNING: This is a development server. Do not use it in a production deployment. Use a production WSGI server instead.\n",
      " * Running on http://127.0.0.1:8050\n",
      "Press CTRL+C to quit\n",
      "127.0.0.1 - - [21/Apr/2023 10:00:03] \"GET / HTTP/1.1\" 200 -\n",
      "127.0.0.1 - - [21/Apr/2023 10:00:03] \"GET /_dash-layout HTTP/1.1\" 200 -\n",
      "127.0.0.1 - - [21/Apr/2023 10:00:03] \"GET /_dash-dependencies HTTP/1.1\" 200 -\n",
      "127.0.0.1 - - [21/Apr/2023 10:00:03] \"GET /assets/dash.png HTTP/1.1\" 304 -\n",
      "127.0.0.1 - - [21/Apr/2023 10:00:03] \"GET /assets/github.png HTTP/1.1\" 304 -\n",
      "127.0.0.1 - - [21/Apr/2023 10:00:03] \"POST /_dash-update-component HTTP/1.1\" 200 -\n"
     ]
    }
   ],
   "source": [
    "app.layout = html.Div(\n",
    "    [\n",
    "        Header(\"Dash Pivottable\", app),\n",
    "        dash_pivottable.PivotTable(\n",
    "            id=\"table\",\n",
    "            data=data,\n",
    "            cols=[\"Day of Week\"],\n",
    "            colOrder=\"key_a_to_z\",\n",
    "            rows=[\"Party Size\"],\n",
    "            rowOrder=\"key_a_to_z\",\n",
    "            rendererName=\"Grouped Column Chart\",\n",
    "            aggregatorName=\"Average\",\n",
    "            vals=[\"Total Bill\"],\n",
    "            valueFilter={\"Day of Week\": {\"Thursday\": False}},\n",
    "        ),\n",
    "        html.Div(id=\"output\"),\n",
    "    ]\n",
    ")\n",
    "\n",
    "\n",
    "@app.callback(\n",
    "    Output(\"output\", \"children\"),\n",
    "    [\n",
    "        Input(\"table\", \"cols\"),\n",
    "        Input(\"table\", \"rows\"),\n",
    "        Input(\"table\", \"rowOrder\"),\n",
    "        Input(\"table\", \"colOrder\"),\n",
    "        Input(\"table\", \"aggregatorName\"),\n",
    "        Input(\"table\", \"rendererName\"),\n",
    "    ],\n",
    ")\n",
    "def display_props(cols, rows, row_order, col_order, aggregator, renderer):\n",
    "    return [\n",
    "        html.P(str(cols), id=\"columns\"),\n",
    "        html.P(str(rows), id=\"rows\"),\n",
    "        html.P(str(row_order), id=\"row_order\"),\n",
    "        html.P(str(col_order), id=\"col_order\"),\n",
    "        html.P(str(aggregator), id=\"aggregator\"),\n",
    "        html.P(str(renderer), id=\"renderer\"),\n",
    "    ]\n",
    "\n",
    "\n",
    "if __name__ == \"__main__\":\n",
    "    app.run_server(debug=False)\n"
   ]
  },
  {
   "cell_type": "code",
   "execution_count": null,
   "id": "8459c587-09a6-4f9c-96e2-3c4c79cf0d44",
   "metadata": {},
   "outputs": [],
   "source": []
  },
  {
   "cell_type": "code",
   "execution_count": null,
   "id": "6b9b2b94-76bc-4825-a288-86b922eb4735",
   "metadata": {},
   "outputs": [],
   "source": []
  },
  {
   "cell_type": "code",
   "execution_count": null,
   "id": "643fba98-ae70-4e84-87e8-15b8e896c790",
   "metadata": {},
   "outputs": [],
   "source": []
  },
  {
   "cell_type": "code",
   "execution_count": null,
   "id": "ee86cdf5-c0de-4bc0-83fb-4941daf14e9e",
   "metadata": {},
   "outputs": [],
   "source": []
  },
  {
   "cell_type": "code",
   "execution_count": null,
   "id": "d444e28f-b6a1-41bd-a580-e18f9a8f4b14",
   "metadata": {},
   "outputs": [],
   "source": []
  },
  {
   "cell_type": "code",
   "execution_count": null,
   "id": "f7b34c93-24fc-4c8f-ac75-9d9a1f5fb27d",
   "metadata": {},
   "outputs": [],
   "source": []
  },
  {
   "cell_type": "code",
   "execution_count": null,
   "id": "05663267-6eb7-4130-a991-521152d1da06",
   "metadata": {},
   "outputs": [],
   "source": []
  },
  {
   "cell_type": "code",
   "execution_count": null,
   "id": "506f4e50-1608-49d4-9e60-448f930d1ae5",
   "metadata": {},
   "outputs": [],
   "source": []
  },
  {
   "cell_type": "code",
   "execution_count": null,
   "id": "8856ff5e-fe01-4a90-be87-2f903b0787cf",
   "metadata": {},
   "outputs": [],
   "source": []
  },
  {
   "cell_type": "code",
   "execution_count": null,
   "id": "ed7fc8c3-2855-405b-94cc-b77d9715f1cc",
   "metadata": {},
   "outputs": [],
   "source": []
  }
 ],
 "metadata": {
  "kernelspec": {
   "display_name": "Python 3 (ipykernel)",
   "language": "python",
   "name": "python3"
  },
  "language_info": {
   "codemirror_mode": {
    "name": "ipython",
    "version": 3
   },
   "file_extension": ".py",
   "mimetype": "text/x-python",
   "name": "python",
   "nbconvert_exporter": "python",
   "pygments_lexer": "ipython3",
   "version": "3.10.10"
  }
 },
 "nbformat": 4,
 "nbformat_minor": 5
}
