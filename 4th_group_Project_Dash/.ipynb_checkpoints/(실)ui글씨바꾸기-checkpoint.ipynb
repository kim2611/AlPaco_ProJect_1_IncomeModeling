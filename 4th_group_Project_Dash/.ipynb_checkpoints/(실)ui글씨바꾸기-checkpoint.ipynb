{
 "cells": [
  {
   "cell_type": "code",
   "execution_count": 1,
   "id": "145e9ddb-940e-4af7-8f74-64870a6ec0fe",
   "metadata": {},
   "outputs": [],
   "source": [
    "# pip install dash_pivottable"
   ]
  },
  {
   "cell_type": "code",
   "execution_count": 1,
   "id": "e711492f-48cc-4715-8493-5f462b6688dd",
   "metadata": {},
   "outputs": [
    {
     "name": "stderr",
     "output_type": "stream",
     "text": [
      "C:\\Users\\HJ\\AppData\\Local\\Temp\\ipykernel_14768\\3633815075.py:3: UserWarning: \n",
      "The dash_html_components package is deprecated. Please replace\n",
      "`import dash_html_components as html` with `from dash import html`\n",
      "  import dash_html_components as html\n"
     ]
    }
   ],
   "source": [
    "import dash\n",
    "from dash.dependencies import Input, Output\n",
    "from dash import html\n",
    "import dash_pivottable\n",
    "from data import data\n"
   ]
  },
  {
   "cell_type": "code",
   "execution_count": 1,
   "id": "b079e2df-ab93-46ea-8c29-0a97ddc53e54",
   "metadata": {},
   "outputs": [
    {
     "ename": "NameError",
     "evalue": "name 'dash' is not defined",
     "output_type": "error",
     "traceback": [
      "\u001b[1;31m---------------------------------------------------------------------------\u001b[0m",
      "\u001b[1;31mNameError\u001b[0m                                 Traceback (most recent call last)",
      "Cell \u001b[1;32mIn[1], line 29\u001b[0m\n\u001b[0;32m      4\u001b[0m     ghub_logo \u001b[38;5;241m=\u001b[39m html\u001b[38;5;241m.\u001b[39mImg(src\u001b[38;5;241m=\u001b[39mapp\u001b[38;5;241m.\u001b[39mget_asset_url(\u001b[38;5;124m\"\u001b[39m\u001b[38;5;124mlogo.gif\u001b[39m\u001b[38;5;124m\"\u001b[39m), style\u001b[38;5;241m=\u001b[39mimg_style)\n\u001b[0;32m      6\u001b[0m     \u001b[38;5;28;01mreturn\u001b[39;00m html\u001b[38;5;241m.\u001b[39mDiv(\n\u001b[0;32m      7\u001b[0m         [\n\u001b[0;32m      8\u001b[0m             html\u001b[38;5;241m.\u001b[39mH1(name, style\u001b[38;5;241m=\u001b[39m{\u001b[38;5;124m\"\u001b[39m\u001b[38;5;124mmargin\u001b[39m\u001b[38;5;124m\"\u001b[39m: \u001b[38;5;241m10\u001b[39m, \u001b[38;5;124m\"\u001b[39m\u001b[38;5;124mdisplay\u001b[39m\u001b[38;5;124m\"\u001b[39m: \u001b[38;5;124m\"\u001b[39m\u001b[38;5;124minline\u001b[39m\u001b[38;5;124m\"\u001b[39m}),\n\u001b[1;32m   (...)\u001b[0m\n\u001b[0;32m     25\u001b[0m         ]\n\u001b[0;32m     26\u001b[0m     )\n\u001b[1;32m---> 29\u001b[0m app \u001b[38;5;241m=\u001b[39m \u001b[43mdash\u001b[49m\u001b[38;5;241m.\u001b[39mDash(\u001b[38;5;18m__name__\u001b[39m)\n\u001b[0;32m     30\u001b[0m app\u001b[38;5;241m.\u001b[39mtitle \u001b[38;5;241m=\u001b[39m \u001b[38;5;124m\"\u001b[39m\u001b[38;5;124mDash Pivottable\u001b[39m\u001b[38;5;124m\"\u001b[39m\n\u001b[0;32m     31\u001b[0m server \u001b[38;5;241m=\u001b[39m app\u001b[38;5;241m.\u001b[39mserver\n",
      "\u001b[1;31mNameError\u001b[0m: name 'dash' is not defined"
     ]
    }
   ],
   "source": [
    "def Header(name, app):\n",
    "    img_style = {\"float\": \"right\", \"height\": 40, \"margin-right\": 10}\n",
    "    dash_logo = html.Img(src=app.get_asset_url(\"img_logo_gold.png\"), style=img_style)\n",
    "    ghub_logo = html.Img(src=app.get_asset_url(\"logo.gif\"), style=img_style)\n",
    "\n",
    "    return html.Div(\n",
    "        [\n",
    "            html.H1(name, style={\"margin\": 10, \"display\": \"inline\"}),\n",
    "            html.A(dash_logo, href=\"https://www.fcseoul.com/\"),\n",
    "            html.A(ghub_logo, href=\"https://www.sisul.or.kr/open_content/main/\"),\n",
    "            html.A(\n",
    "                html.Button(\n",
    "                    \"서울월드컵경기장\",\n",
    "                    style={\n",
    "                        \"float\": \"right\",\n",
    "                        \"margin-right\": \"10px\",\n",
    "                        \"margin-top\": \"5px\",\n",
    "                        \"padding\": \"5px 10px\",\n",
    "                        \"font-size\": \"15px\",\n",
    "                    },\n",
    "                ),\n",
    "                href=\"https://www.sisul.or.kr/open_content/worldcup/\",\n",
    "            ),\n",
    "            html.Hr(),\n",
    "        ]\n",
    "    )\n",
    "\n",
    "\n",
    "app = dash.Dash(__name__)\n",
    "app.title = \"Dash Pivottable\"\n",
    "server = app.server"
   ]
  },
  {
   "cell_type": "code",
   "execution_count": null,
   "id": "33f52fe4-e1cd-47cb-9553-d074cc60c821",
   "metadata": {},
   "outputs": [],
   "source": [
    "app.layout = html.Div(\n",
    "    [\n",
    "        Header(\"서울월드컵경기장 수익 극대화\", app),\n",
    "        dash_pivottable.PivotTable(\n",
    "            id=\"table\",\n",
    "            data=data,\n",
    "            cols=[\"Day of Week\"],\n",
    "            colOrder=\"key_a_to_z\",\n",
    "            rows=[\"Party Size\"],\n",
    "            rowOrder=\"key_a_to_z\",\n",
    "            rendererName=\"Grouped Column Chart\",\n",
    "            aggregatorName=\"Average\",\n",
    "            vals=[\"Total Bill\"],\n",
    "            valueFilter={\"Day of Week\": {\"Thursday\": False}},\n",
    "        ),\n",
    "        html.Div(id=\"output\"),\n",
    "    ]\n",
    ")\n",
    "\n",
    "\n",
    "@app.callback(\n",
    "    Output(\"output\", \"children\"),\n",
    "    [\n",
    "        Input(\"table\", \"cols\"),\n",
    "        Input(\"table\", \"rows\"),\n",
    "        Input(\"table\", \"rowOrder\"),\n",
    "        Input(\"table\", \"colOrder\"),\n",
    "        Input(\"table\", \"aggregatorName\"),\n",
    "        Input(\"table\", \"rendererName\"),\n",
    "    ],\n",
    ")\n",
    "def display_props(cols, rows, row_order, col_order, aggregator, renderer):\n",
    "    return [\n",
    "        html.P(str(cols), id=\"columns\"),\n",
    "        html.P(str(rows), id=\"rows\"),\n",
    "        html.P(str(row_order), id=\"row_order\"),\n",
    "        html.P(str(col_order), id=\"col_order\"),\n",
    "        html.P(str(aggregator), id=\"aggregator\"),\n",
    "        html.P(str(renderer), id=\"renderer\"),\n",
    "    ]\n",
    "\n",
    "\n",
    "if __name__ == \"__main__\":\n",
    "    app.run_server(debug=False)\n"
   ]
  },
  {
   "cell_type": "code",
   "execution_count": null,
   "id": "8459c587-09a6-4f9c-96e2-3c4c79cf0d44",
   "metadata": {},
   "outputs": [],
   "source": []
  },
  {
   "cell_type": "code",
   "execution_count": null,
   "id": "6b9b2b94-76bc-4825-a288-86b922eb4735",
   "metadata": {},
   "outputs": [],
   "source": []
  },
  {
   "cell_type": "code",
   "execution_count": null,
   "id": "643fba98-ae70-4e84-87e8-15b8e896c790",
   "metadata": {},
   "outputs": [],
   "source": []
  },
  {
   "cell_type": "code",
   "execution_count": null,
   "id": "ee86cdf5-c0de-4bc0-83fb-4941daf14e9e",
   "metadata": {},
   "outputs": [],
   "source": []
  },
  {
   "cell_type": "code",
   "execution_count": null,
   "id": "d444e28f-b6a1-41bd-a580-e18f9a8f4b14",
   "metadata": {},
   "outputs": [],
   "source": []
  },
  {
   "cell_type": "code",
   "execution_count": null,
   "id": "f7b34c93-24fc-4c8f-ac75-9d9a1f5fb27d",
   "metadata": {},
   "outputs": [],
   "source": []
  },
  {
   "cell_type": "code",
   "execution_count": null,
   "id": "05663267-6eb7-4130-a991-521152d1da06",
   "metadata": {},
   "outputs": [],
   "source": []
  },
  {
   "cell_type": "code",
   "execution_count": null,
   "id": "506f4e50-1608-49d4-9e60-448f930d1ae5",
   "metadata": {},
   "outputs": [],
   "source": []
  },
  {
   "cell_type": "code",
   "execution_count": null,
   "id": "8856ff5e-fe01-4a90-be87-2f903b0787cf",
   "metadata": {},
   "outputs": [],
   "source": []
  },
  {
   "cell_type": "code",
   "execution_count": null,
   "id": "ed7fc8c3-2855-405b-94cc-b77d9715f1cc",
   "metadata": {},
   "outputs": [],
   "source": []
  }
 ],
 "metadata": {
  "kernelspec": {
   "display_name": "Python 3 (ipykernel)",
   "language": "python",
   "name": "python3"
  },
  "language_info": {
   "codemirror_mode": {
    "name": "ipython",
    "version": 3
   },
   "file_extension": ".py",
   "mimetype": "text/x-python",
   "name": "python",
   "nbconvert_exporter": "python",
   "pygments_lexer": "ipython3",
   "version": "3.10.10"
  }
 },
 "nbformat": 4,
 "nbformat_minor": 5
}
